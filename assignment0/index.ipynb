{
 "cells": [
  {
   "cell_type": "markdown",
   "metadata": {},
   "source": [
    "# Assignment 0: Getting started with webpage submission\n",
    "## Task 1. ChatGPT\n",
    "- prompt: write a poem about the snowy nights at Carnegie Mellon University campus\n",
    "\n",
    "- answer:\n",
    "**Snowy Nights at Carnegie Mellon**\n",
    "\n",
    "The hush of snow, a velvet veil,  \n",
    "Descends on campus, soft and pale.  \n",
    "Under lamplight’s golden gleam,  \n",
    "The world transforms into a dream.\n",
    "\n",
    "Hamerschlag’s tower stands aglow,  \n",
    "A sentinel crowned with icy snow.  \n",
    "Paths once trod by hurried feet,  \n",
    "Now rest beneath a frozen sheet.\n",
    "\n",
    "Baker Hall, a quiet frame,  \n",
    "Holds whispers of the falling flake’s name.  \n",
    "The Cut, so bustling in the day,  \n",
    "Now lies in silver, calm, and gray.\n",
    "\n",
    "The wind hums low through Wean’s cold halls,  \n",
    "A ghostly echo where silence calls.  \n",
    "The glow of windows, warm and bright,  \n",
    "Guard against the frosty night.\n",
    "\n",
    "Students wander, scarves held tight,  \n",
    "Their laughter clouds in the winter’s bite.  \n",
    "Dreams they chase, like snowflakes free,  \n",
    "Each one unique, a destiny.\n",
    "\n",
    "Oh, snowy nights at CMU,  \n",
    "Where time slows down, where skies are blue.  \n",
    "A fleeting gift, this winter’s art,  \n",
    "Etched in the memory, kept in the heart.\n",
    "\n",
    "\n",
    "## Task 2 3D shape images\n",
    "- source: https://graphics.stanford.edu/data/3Dscanrep/\n",
    "\n",
    "![bunny](data/bunny.png)\n",
    "\n",
    "## Task 3 Funny GIF\n",
    "- source: https://www.tumblr.com/volleygifs/164138091462/happy-birthday-ushijima-wakatoshi-%EF%BE%9F-%EF%BE%9F\n",
    "\n",
    "![wakatoshi](data/fun.gif)"
   ]
  }
 ],
 "metadata": {
  "language_info": {
   "name": "python"
  }
 },
 "nbformat": 4,
 "nbformat_minor": 2
}
