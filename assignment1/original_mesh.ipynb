{
 "cells": [
  {
   "cell_type": "code",
   "execution_count": 4,
   "metadata": {},
   "outputs": [
    {
     "ename": "ValueError",
     "evalue": "Textures do not match the dimensions of Meshes.",
     "output_type": "error",
     "traceback": [
      "\u001b[0;31m---------------------------------------------------------------------------\u001b[0m",
      "\u001b[0;31mValueError\u001b[0m                                Traceback (most recent call last)",
      "Cell \u001b[0;32mIn[4], line 18\u001b[0m\n\u001b[1;32m     16\u001b[0m \u001b[38;5;28;01mimport\u001b[39;00m\u001b[38;5;250m \u001b[39m\u001b[38;5;21;01mtorch\u001b[39;00m\n\u001b[1;32m     17\u001b[0m \u001b[38;5;28;01mimport\u001b[39;00m\u001b[38;5;250m \u001b[39m\u001b[38;5;21;01mnumpy\u001b[39;00m\u001b[38;5;250m \u001b[39m\u001b[38;5;28;01mas\u001b[39;00m\u001b[38;5;250m \u001b[39m\u001b[38;5;21;01mnp\u001b[39;00m\n\u001b[0;32m---> 18\u001b[0m \u001b[43mrender_mesh_panaroma\u001b[49m\u001b[43m(\u001b[49m\u001b[43mmeshes\u001b[49m\u001b[43m,\u001b[49m\u001b[43m \u001b[49m\u001b[43moutput_path\u001b[49m\u001b[38;5;241;43m=\u001b[39;49m\u001b[38;5;124;43m'\u001b[39;49m\u001b[38;5;124;43mplay/7-sample-mesh/origin.gif\u001b[39;49m\u001b[38;5;124;43m'\u001b[39;49m\u001b[43m)\u001b[49m\n",
      "File \u001b[0;32m/mnt/disk1/lingyunxu/Learning3d/assignment1/starter/panaroma_render.py:68\u001b[0m, in \u001b[0;36mrender_mesh_panaroma\u001b[0;34m(meshes, top, bottom, output_path)\u001b[0m\n\u001b[1;32m     65\u001b[0m renderer \u001b[38;5;241m=\u001b[39m get_mesh_renderer(lights\u001b[38;5;241m=\u001b[39mlights, image_size\u001b[38;5;241m=\u001b[39m\u001b[38;5;241m256\u001b[39m, device\u001b[38;5;241m=\u001b[39mdevice)\n\u001b[1;32m     67\u001b[0m \u001b[38;5;66;03m# Render the images\u001b[39;00m\n\u001b[0;32m---> 68\u001b[0m images \u001b[38;5;241m=\u001b[39m renderer(\u001b[43mmeshes\u001b[49m\u001b[38;5;241;43m.\u001b[39;49m\u001b[43mextend\u001b[49m\u001b[43m(\u001b[49m\u001b[43mnum_cameras\u001b[49m\u001b[43m)\u001b[49m, cameras\u001b[38;5;241m=\u001b[39mcameras, lights\u001b[38;5;241m=\u001b[39mlights)\n\u001b[1;32m     70\u001b[0m images \u001b[38;5;241m=\u001b[39m images\u001b[38;5;241m.\u001b[39mcpu()\u001b[38;5;241m.\u001b[39mnumpy()[:, :, :, :\u001b[38;5;241m3\u001b[39m] \u001b[38;5;66;03m# [1, H, W, rgb]\u001b[39;00m\n\u001b[1;32m     71\u001b[0m images \u001b[38;5;241m=\u001b[39m [(image\u001b[38;5;241m*\u001b[39m\u001b[38;5;241m255\u001b[39m)\u001b[38;5;241m.\u001b[39mastype(np\u001b[38;5;241m.\u001b[39muint8) \u001b[38;5;28;01mfor\u001b[39;00m image \u001b[38;5;129;01min\u001b[39;00m images]\n",
      "File \u001b[0;32m~/mambaforge/envs/newlearning3d/lib/python3.10/site-packages/pytorch3d/structures/meshes.py:1530\u001b[0m, in \u001b[0;36mMeshes.extend\u001b[0;34m(self, N)\u001b[0m\n\u001b[1;32m   1527\u001b[0m \u001b[38;5;28;01mif\u001b[39;00m \u001b[38;5;28mself\u001b[39m\u001b[38;5;241m.\u001b[39mtextures \u001b[38;5;129;01mis\u001b[39;00m \u001b[38;5;129;01mnot\u001b[39;00m \u001b[38;5;28;01mNone\u001b[39;00m:\n\u001b[1;32m   1528\u001b[0m     tex \u001b[38;5;241m=\u001b[39m \u001b[38;5;28mself\u001b[39m\u001b[38;5;241m.\u001b[39mtextures\u001b[38;5;241m.\u001b[39mextend(N)\n\u001b[0;32m-> 1530\u001b[0m \u001b[38;5;28;01mreturn\u001b[39;00m \u001b[38;5;28;43mself\u001b[39;49m\u001b[38;5;241;43m.\u001b[39;49m\u001b[38;5;18;43m__class__\u001b[39;49m\u001b[43m(\u001b[49m\u001b[43mverts\u001b[49m\u001b[38;5;241;43m=\u001b[39;49m\u001b[43mnew_verts_list\u001b[49m\u001b[43m,\u001b[49m\u001b[43m \u001b[49m\u001b[43mfaces\u001b[49m\u001b[38;5;241;43m=\u001b[39;49m\u001b[43mnew_faces_list\u001b[49m\u001b[43m,\u001b[49m\u001b[43m \u001b[49m\u001b[43mtextures\u001b[49m\u001b[38;5;241;43m=\u001b[39;49m\u001b[43mtex\u001b[49m\u001b[43m)\u001b[49m\n",
      "File \u001b[0;32m~/mambaforge/envs/newlearning3d/lib/python3.10/site-packages/pytorch3d/structures/meshes.py:438\u001b[0m, in \u001b[0;36mMeshes.__init__\u001b[0;34m(self, verts, faces, textures, verts_normals)\u001b[0m\n\u001b[1;32m    436\u001b[0m \u001b[38;5;28;01mif\u001b[39;00m \u001b[38;5;129;01mnot\u001b[39;00m shape_ok:\n\u001b[1;32m    437\u001b[0m     msg \u001b[38;5;241m=\u001b[39m \u001b[38;5;124m\"\u001b[39m\u001b[38;5;124mTextures do not match the dimensions of Meshes.\u001b[39m\u001b[38;5;124m\"\u001b[39m\n\u001b[0;32m--> 438\u001b[0m     \u001b[38;5;28;01mraise\u001b[39;00m \u001b[38;5;167;01mValueError\u001b[39;00m(msg)\n\u001b[1;32m    440\u001b[0m \u001b[38;5;28mself\u001b[39m\u001b[38;5;241m.\u001b[39mtextures\u001b[38;5;241m.\u001b[39m_num_faces_per_mesh \u001b[38;5;241m=\u001b[39m \u001b[38;5;28mself\u001b[39m\u001b[38;5;241m.\u001b[39m_num_faces_per_mesh\u001b[38;5;241m.\u001b[39mtolist()\n\u001b[1;32m    441\u001b[0m \u001b[38;5;28mself\u001b[39m\u001b[38;5;241m.\u001b[39mtextures\u001b[38;5;241m.\u001b[39m_num_verts_per_mesh \u001b[38;5;241m=\u001b[39m \u001b[38;5;28mself\u001b[39m\u001b[38;5;241m.\u001b[39m_num_verts_per_mesh\u001b[38;5;241m.\u001b[39mtolist()\n",
      "\u001b[0;31mValueError\u001b[0m: Textures do not match the dimensions of Meshes."
     ]
    }
   ],
   "source": [
    "from starter.utils import get_device\n",
    "import pytorch3d\n",
    "\n",
    "device = get_device()\n",
    "cow_path = 'data/cow.obj'\n",
    "meshes = pytorch3d.io.load_objs_as_meshes([cow_path]).to(device)\n",
    "# Generate random colors for each vertex\n",
    "points = meshes.verts_packed()\n",
    "colors = (points - points.min()) / (points.max() - points.min())\n",
    "colors = colors.unsqueeze(1)\n",
    "\n",
    "# Assign the colors to the mesh\n",
    "meshes.textures = pytorch3d.renderer.TexturesVertex(verts_features=colors)\n",
    "\n",
    "from starter.panaroma_render import render_mesh_panaroma\n",
    "import torch\n",
    "import numpy as np\n",
    "render_mesh_panaroma(meshes, output_path='play/7-sample-mesh/origin.gif')"
   ]
  }
 ],
 "metadata": {
  "kernelspec": {
   "display_name": "newlearning3d",
   "language": "python",
   "name": "python3"
  },
  "language_info": {
   "codemirror_mode": {
    "name": "ipython",
    "version": 3
   },
   "file_extension": ".py",
   "mimetype": "text/x-python",
   "name": "python",
   "nbconvert_exporter": "python",
   "pygments_lexer": "ipython3",
   "version": "3.10.16"
  }
 },
 "nbformat": 4,
 "nbformat_minor": 2
}
