{
 "cells": [
  {
   "cell_type": "code",
   "execution_count": 2,
   "metadata": {},
   "outputs": [
    {
     "name": "stdout",
     "output_type": "stream",
     "text": [
      "/mnt/disk1/lingyunxu/Learning3d/assignment1\n"
     ]
    },
    {
     "name": "stdout",
     "output_type": "stream",
     "text": [
      "<pytorch3d.structures.meshes.Meshes object at 0x7f53806eb820>\n"
     ]
    }
   ],
   "source": [
    "import sys\n",
    "!pwd\n",
    "import torch\n",
    "from pytorch3d.io import load_objs_as_meshes\n",
    "from pytorch3d.structures import Meshes\n",
    "from pytorch3d.renderer import Textures\n",
    "\n",
    "# Set the device\n",
    "device = torch.device(\"cuda:0\" if torch.cuda.is_available() else \"cpu\")\n",
    "\n",
    "# Load the mesh\n",
    "obj_filename = \"data/cow.obj\"\n",
    "mesh = load_objs_as_meshes([obj_filename], device=device)\n",
    "\n",
    "# Print the mesh to verify\n",
    "print(mesh)"
   ]
  },
  {
   "cell_type": "code",
   "execution_count": 3,
   "metadata": {},
   "outputs": [
    {
     "name": "stdout",
     "output_type": "stream",
     "text": [
      "<pytorch3d.renderer.mesh.textures.TexturesVertex object at 0x7f54e6f0a9b0>\n"
     ]
    }
   ],
   "source": [
    "import torch\n",
    "\n",
    "# Define colors\n",
    "color1 = torch.tensor([1.0, 0.0, 0.0], device=device)  # Red\n",
    "color2 = torch.tensor([0.0, 0.0, 1.0], device=device)  # Blue\n",
    "\n",
    "# Get the vertices of the mesh\n",
    "verts = mesh.verts_packed()\n",
    "\n",
    "# Get the z-coordinates of the vertices\n",
    "z_vals = verts[:, 2] # [N, xyz]\n",
    "# Find the min and max z-coordinates\n",
    "zmin = z_vals.min()\n",
    "zmax = z_vals.max()\n",
    "\n",
    "# Linearly interpolate colors based on z-coordinates\n",
    "alpha = (z_vals - zmin) / (zmax - zmin)\n",
    "alpha = alpha.unsqueeze(1)  # [N, 1]\n",
    "colors = alpha * color2 + (1 - alpha) * color1 # [N, 3]\n",
    "\n",
    "# Create textures\n",
    "textures = Textures(verts_rgb=colors[None])\n",
    "\n",
    "# Assign textures to the mesh\n",
    "mesh.textures = textures\n",
    "\n",
    "# Print the textures to verify\n",
    "print(mesh.textures)"
   ]
  },
  {
   "cell_type": "code",
   "execution_count": 4,
   "metadata": {},
   "outputs": [
    {
     "data": {
      "image/png": "[encoded data removed]",
      "text/plain": [
       "<Figure size 640x480 with 1 Axes>"
      ]
     },
     "metadata": {},
     "output_type": "display_data"
    }
   ],
   "source": [
    "from starter.utils import get_mesh_renderer\n",
    "\n",
    "import pytorch3d\n",
    "\n",
    "# Set the image size\n",
    "image_size = 512\n",
    "\n",
    "R, T = pytorch3d.renderer.cameras.look_at_view_transform(dist=3, elev=0, azim=90, degrees=True)\n",
    "# Prepare the camera:\n",
    "cameras = pytorch3d.renderer.FoVPerspectiveCameras(\n",
    "    R=R, T=T, fov=60, device=device\n",
    ")\n",
    "\n",
    "# Define the lights\n",
    "lights = pytorch3d.renderer.PointLights(location=[[0, 0, -3]], device=device)\n",
    "\n",
    "# Define the renderer\n",
    "renderer = get_mesh_renderer(image_size=image_size, lights=lights)\n",
    "\n",
    "# Render the mesh\n",
    "images = renderer(mesh, cameras=cameras)\n",
    "\n",
    "# Display the rendered image\n",
    "import matplotlib.pyplot as plt\n",
    "image = images[0, ..., :3].cpu().numpy()\n",
    "plt.imshow(image)\n",
    "plt.imsave(\"play/3-retexturing-mesh/retextured.jpg\", image)"
   ]
  },
  {
   "cell_type": "code",
   "execution_count": 5,
   "metadata": {},
   "outputs": [],
   "source": [
    "from starter.panaroma_render import render_mesh_panaroma\n",
    "render_mesh_panaroma(mesh, output_path='play/3-retexturing-mesh/panaroma.gif')"
   ]
  }
 ],
 "metadata": {
  "kernelspec": {
   "display_name": "newlearning3d",
   "language": "python",
   "name": "python3"
  },
  "language_info": {
   "codemirror_mode": {
    "name": "ipython",
    "version": 3
   },
   "file_extension": ".py",
   "mimetype": "text/x-python",
   "name": "python",
   "nbconvert_exporter": "python",
   "pygments_lexer": "ipython3",
   "version": "3.10.16"
  }
 },
 "nbformat": 4,
 "nbformat_minor": 2
}
